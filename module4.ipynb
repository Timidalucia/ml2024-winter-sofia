{
 "cells": [
  {
   "cell_type": "code",
   "execution_count": null,
   "metadata": {},
   "outputs": [],
   "source": [
    "def input_number():\n",
    "    n = input(\"Please input an integer\")\n",
    "    number_list = []\n",
    "    for i in range(1,int(n)+1) :\n",
    "        number= input(\"Please input a number\")\n",
    "        number_list.append(number)\n",
    "    x= input(\"Please input another integer\")\n",
    "    if x in number_list:\n",
    "        output = number_list.index(x)+1\n",
    "    else:\n",
    "        output = -1\n",
    "    return output"
   ]
  },
  {
   "cell_type": "code",
   "execution_count": null,
   "metadata": {},
   "outputs": [],
   "source": [
    "input_number()"
   ]
  }
 ],
 "metadata": {
  "kernelspec": {
   "display_name": "Python 3",
   "language": "python",
   "name": "python3"
  },
  "language_info": {
   "codemirror_mode": {
    "name": "ipython",
    "version": 3
   },
   "file_extension": ".py",
   "mimetype": "text/x-python",
   "name": "python",
   "nbconvert_exporter": "python",
   "pygments_lexer": "ipython3",
   "version": "3.7.6"
  }
 },
 "nbformat": 4,
 "nbformat_minor": 4
}
